{
 "cells": [
  {
   "cell_type": "markdown",
   "metadata": {},
   "source": [
    "As the name suggests, python tempfile module is used for creating temporary directories"
   ]
  },
  {
   "cell_type": "code",
   "execution_count": null,
   "metadata": {},
   "outputs": [],
   "source": [
    "import tempfile\n",
    "\n",
    "\n",
    "def main() -> int:\n",
    "    with tempfile.TemporaryDirectory() as tmpdir:\n",
    "        print(tmpdir)\n",
    "    return 0\n",
    "\n",
    "\n",
    "if __name__ =='__main__':\n",
    "    raise SystemExit(main())\n"
   ]
  }
 ],
 "metadata": {
  "language_info": {
   "name": "python"
  }
 },
 "nbformat": 4,
 "nbformat_minor": 2
}
